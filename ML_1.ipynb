{
  "nbformat": 4,
  "nbformat_minor": 0,
  "metadata": {
    "colab": {
      "private_outputs": true,
      "provenance": [],
      "include_colab_link": true
    },
    "kernelspec": {
      "name": "python3",
      "display_name": "Python 3"
    },
    "language_info": {
      "name": "python"
    }
  },
  "cells": [
    {
      "cell_type": "markdown",
      "metadata": {
        "id": "view-in-github",
        "colab_type": "text"
      },
      "source": [
        "<a href=\"https://colab.research.google.com/github/OSEUK/Tutorial/blob/main/ML_1.ipynb\" target=\"_parent\"><img src=\"https://colab.research.google.com/assets/colab-badge.svg\" alt=\"Open In Colab\"/></a>"
      ]
    },
    {
      "cell_type": "markdown",
      "source": [
        "이 예제는 인공지능 강의 3주차 기계학습(1) 방법론의 PPT를 참조해서 하나하나 따라가면서 해보길 바래요.\n",
        "\n",
        "\n",
        "여기서 하는 일은 nbastat2022.csv 파일을 읽어들이고, 이 파일에서 FGA로부터 FGM을 예측하는 간단한 회귀 모델을 구현하는 거에요.\n",
        "\n",
        "굿럭!!"
      ],
      "metadata": {
        "id": "n89zfKrYp449"
      }
    },
    {
      "cell_type": "markdown",
      "source": [
        "## 1. library import"
      ],
      "metadata": {
        "id": "M-PC286DOC1l"
      }
    },
    {
      "cell_type": "markdown",
      "source": [
        "파이썬에서 사용하는 중요 라이브러리인 numpy와 pandas 및 colab에서 사용하는 drive를 import해요"
      ],
      "metadata": {
        "id": "a07_M5yPlOIt"
      }
    },
    {
      "cell_type": "code",
      "execution_count": null,
      "metadata": {
        "id": "2Jf5wU00N-0U"
      },
      "outputs": [],
      "source": [
        "import numpy as np\n",
        "import pandas as pd"
      ]
    },
    {
      "cell_type": "code",
      "source": [
        "from google.colab import drive\n",
        "drive.mount('/content/drive')"
      ],
      "metadata": {
        "id": "A3DdSzfB01Lk"
      },
      "execution_count": null,
      "outputs": []
    },
    {
      "cell_type": "markdown",
      "source": [
        "## 2. mount drive"
      ],
      "metadata": {
        "id": "N1S50vZ4OI5F"
      }
    },
    {
      "cell_type": "markdown",
      "source": [
        "google drive에서 사용할 folder를 mount해요"
      ],
      "metadata": {
        "id": "Xw4T-ku1ldFV"
      }
    },
    {
      "cell_type": "code",
      "source": [],
      "metadata": {
        "id": "IM2d18b3OPPK"
      },
      "execution_count": null,
      "outputs": []
    },
    {
      "cell_type": "markdown",
      "source": [
        "## 3. upload file"
      ],
      "metadata": {
        "id": "7fSnzVWpOPx0"
      }
    },
    {
      "cell_type": "markdown",
      "source": [
        "개인 PC에 저장된 데이터 파일을 google drive에 upload해요.\n",
        "개인 PC에 nbastat2022.csv가 저장되어 있어야해요."
      ],
      "metadata": {
        "id": "H0WbBFAElk1l"
      }
    },
    {
      "cell_type": "code",
      "source": [],
      "metadata": {
        "id": "7ZOOa4BSOTN8"
      },
      "execution_count": null,
      "outputs": []
    },
    {
      "cell_type": "markdown",
      "source": [
        "## 4. read csv file"
      ],
      "metadata": {
        "id": "kMAmuYGQOT1s"
      }
    },
    {
      "cell_type": "markdown",
      "source": [
        "pandas의 read_csv 파일을 이용해서 nbastat2022.csv 파일에 저장된 정보를 dataframe으로 읽어들여요. 읽어들인 dataframe의 이름을 nbastat이라고 한다면, nbastat을 출력해보아요."
      ],
      "metadata": {
        "id": "-bWCYvBTl0dt"
      }
    },
    {
      "cell_type": "code",
      "source": [
        "nbastat = pd.read_csv(\"/content/drive/MyDrive/nbastat2022.csv\",sep = ',', encoding = 'UTF-8')\n",
        "nbastat"
      ],
      "metadata": {
        "id": "2F1_bcZ_OYIc"
      },
      "execution_count": null,
      "outputs": []
    },
    {
      "cell_type": "markdown",
      "source": [
        "## 5. line 수 count"
      ],
      "metadata": {
        "id": "qD8vH8P3OZx8"
      }
    },
    {
      "cell_type": "markdown",
      "source": [
        "nbastat의 줄 수를 세서 그 값을 m (data의 갯수)으로 저장해요. m을 출력해보아요."
      ],
      "metadata": {
        "id": "Hv80X4CpmCVk"
      }
    },
    {
      "cell_type": "code",
      "source": [
        "m = len(nbastat)\n",
        "m"
      ],
      "metadata": {
        "id": "L7lmrV3LOe5k"
      },
      "execution_count": null,
      "outputs": []
    },
    {
      "cell_type": "markdown",
      "source": [
        "## 6. nbastat에서 colulm 선택"
      ],
      "metadata": {
        "id": "O1bRnuyWOfQc"
      }
    },
    {
      "cell_type": "markdown",
      "source": [
        "nbastat의 여러 속성 (column)들 중에서 우리가 사용할 2개의 속성인 FGA와 FGM을 선택해서 FGA를 X, FGM을 Y로 저장해요. X와 Y를 출력해보아요. 그리고 X와 Y의 type을 출력해보아요."
      ],
      "metadata": {
        "id": "xXqNOMdkmKLF"
      }
    },
    {
      "cell_type": "code",
      "source": [
        "X = nbastat[['FGA']]\n",
        "Y = nbastat[['FGM']]\n",
        "X.info()\n",
        "Y.info()"
      ],
      "metadata": {
        "id": "trEfSXDKOkhU"
      },
      "execution_count": null,
      "outputs": []
    },
    {
      "cell_type": "markdown",
      "source": [
        "## 7. 결측값 처리"
      ],
      "metadata": {
        "id": "2S03lZ8aOk_0"
      }
    },
    {
      "cell_type": "markdown",
      "source": [
        "X와 Y에서 비어있는 값이 있을 수 있으니 (결측값), 이 값을 0으로 채워주어요. "
      ],
      "metadata": {
        "id": "3lCrKHKdmWut"
      }
    },
    {
      "cell_type": "code",
      "source": [
        "X= X.fillna(0)\n",
        "Y= Y.fillna(0)"
      ],
      "metadata": {
        "id": "zf2QSPZYOn-0"
      },
      "execution_count": null,
      "outputs": []
    },
    {
      "cell_type": "markdown",
      "source": [
        "## 8. ndarray로 변환"
      ],
      "metadata": {
        "id": "naG7pdarOoY9"
      }
    },
    {
      "cell_type": "markdown",
      "source": [
        "X와 Y는 아직 pandas format이기 때문에, 이 X와 Y를 numpy에서 사용하려면 numpy에서 지원하는 배열 형태로 변환되어야 해요. X와 Y를 (m x 1) 크기의 배열로 변환해본 다음에 그 type을 출력해보아요."
      ],
      "metadata": {
        "id": "S5W_CQyemgfF"
      }
    },
    {
      "cell_type": "code",
      "source": [
        "X = (np.array(X)).reshape(m,1)\n",
        "Y = (np.array(Y)).reshape(m,1)\n",
        "X"
      ],
      "metadata": {
        "id": "CT81lv9DPNTk"
      },
      "execution_count": null,
      "outputs": []
    },
    {
      "cell_type": "markdown",
      "source": [
        "## 9. 그려보기"
      ],
      "metadata": {
        "id": "Ny6nq2pmPOJU"
      }
    },
    {
      "cell_type": "markdown",
      "source": [
        "잘 변환되었는지 화면에 그림으로 출력해보아요. pyplot에서 지원하는 plot 함수를 이용해요."
      ],
      "metadata": {
        "id": "SuQkJFO2nukt"
      }
    },
    {
      "cell_type": "code",
      "source": [
        "import matplotlib.pyplot as plt\n",
        "plt.plot(X, Y, '.b')\n",
        "plt.xlabel(\"FGA\")\n",
        "plt.ylabel(\"FGM\")"
      ],
      "metadata": {
        "id": "ZZiQAeZDPQeM"
      },
      "execution_count": null,
      "outputs": []
    },
    {
      "cell_type": "markdown",
      "source": [
        "## 10. 변수 설정"
      ],
      "metadata": {
        "id": "lqzt8CVSoAr9"
      }
    },
    {
      "cell_type": "markdown",
      "source": [
        "모두 1인 값을 갖는 (m x 1) 크기의 X0를 선언하고, 이 X0와 X를 결합해서 Xb를 만들어요."
      ],
      "metadata": {
        "id": "-L3M9v_VoFPc"
      }
    },
    {
      "cell_type": "markdown",
      "source": [
        "![Xb.png](data:image/png;base64,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)"
      ],
      "metadata": {
        "id": "SNsagfyHonDM"
      }
    },
    {
      "cell_type": "code",
      "source": [
        "x0 = np.ones((m,1))\n",
        "Xb = np.c_[x0, X]"
      ],
      "metadata": {
        "id": "5Ti9Zi4on7od"
      },
      "execution_count": null,
      "outputs": []
    },
    {
      "cell_type": "markdown",
      "source": [
        "## 11. 준비"
      ],
      "metadata": {
        "id": "pcdwkmyZPUGE"
      }
    },
    {
      "cell_type": "markdown",
      "source": [
        "hyperparameter인 learning_rate (학습률)와 n_iter (반복 횟수)의 값을 지정해줘요."
      ],
      "metadata": {
        "id": "GlIaM6JUpDel"
      }
    },
    {
      "cell_type": "code",
      "source": [
        "learning_rate = 0.0001\n",
        "n_iter = 200"
      ],
      "metadata": {
        "id": "uyeocmtoPXKN"
      },
      "execution_count": null,
      "outputs": []
    },
    {
      "cell_type": "markdown",
      "source": [
        "## 12. 초기화"
      ],
      "metadata": {
        "id": "OFnE4cfDPXiN"
      }
    },
    {
      "cell_type": "markdown",
      "source": [
        "사용할 변수인 theta와 gradients를 0으로 초기화해요. theta와 gradients는 그 크기가 (2x1) 행렬이에요."
      ],
      "metadata": {
        "id": "XwOpXCY_pL79"
      }
    },
    {
      "cell_type": "code",
      "source": [
        "theta = np.zeros((2,1))\n",
        "gradients = np.zeros((2,1))"
      ],
      "metadata": {
        "id": "g4tu9cJUPb6N"
      },
      "execution_count": null,
      "outputs": []
    },
    {
      "cell_type": "markdown",
      "source": [
        "## 12. 경사 하강법 수행"
      ],
      "metadata": {
        "id": "8RmBSkyLPdEV"
      }
    },
    {
      "cell_type": "markdown",
      "source": [
        "n_iter 동안 gradient와 theta를 계산해요."
      ],
      "metadata": {
        "id": "dVuRxochpTSt"
      }
    },
    {
      "cell_type": "code",
      "source": [
        "for i in range(n_iter):\n",
        "  gradients = (1.0/m)*Xb.T.dot(Xb.dot(theta)-Y)"
      ],
      "metadata": {
        "id": "VpvwunIyPqms"
      },
      "execution_count": null,
      "outputs": []
    },
    {
      "cell_type": "markdown",
      "source": [
        "## 13. 결과 보기"
      ],
      "metadata": {
        "id": "RTPVyloePq7t"
      }
    },
    {
      "cell_type": "markdown",
      "source": [
        "최종 결과는 theta에요. 이 값을 찍어보아요. 그리고, theta를 이용해서 predicted value인 Y_pred를 계산하고, 이 Y_pred를 plot을 이용해서 그려보아요."
      ],
      "metadata": {
        "id": "ycSzDxU9pXLd"
      }
    },
    {
      "cell_type": "code",
      "source": [
        "theta = theta - learning_rate*gradients"
      ],
      "metadata": {
        "id": "WjjG-MHIPvDc"
      },
      "execution_count": null,
      "outputs": []
    },
    {
      "cell_type": "code",
      "source": [
        "from sklearn.linear_model import SGDRegressor\n",
        "sgd_reg = SGDRegressor(max_iter = 100, penalty = None, alpha = 0.0001)\n",
        "sgd_reg.fit(X , Y.ravel())"
      ],
      "metadata": {
        "id": "_kZp9nCq73PQ"
      },
      "execution_count": null,
      "outputs": []
    },
    {
      "cell_type": "code",
      "source": [
        "Y_pred = sgd_reg.predict(X)\n",
        "plt.plot(X, Y, '.b')\n",
        "plt.plot(X, Y_pred, 'r')\n",
        "plt.show()"
      ],
      "metadata": {
        "id": "dUd6PKv07GB0"
      },
      "execution_count": null,
      "outputs": []
    },
    {
      "cell_type": "code",
      "source": [
        "Xtest = np.array([1,20])\n",
        "np.dot(Xtest, theta)"
      ],
      "metadata": {
        "id": "hkdhLZd594fT"
      },
      "execution_count": null,
      "outputs": []
    },
    {
      "cell_type": "markdown",
      "source": [
        "여기까지 끝.  수고 많았어요."
      ],
      "metadata": {
        "id": "nZ-1qv2Ypml0"
      }
    }
  ]
}